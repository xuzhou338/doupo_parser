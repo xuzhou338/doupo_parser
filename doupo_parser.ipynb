{
 "cells": [
  {
   "cell_type": "code",
   "execution_count": 15,
   "metadata": {},
   "outputs": [],
   "source": [
    "from bs4 import BeautifulSoup\n",
    "import requests\n",
    "from tqdm import trange\n",
    "\n",
    "def make_soup(url):\n",
    "    \"\"\"Make a soup from the url\"\"\"\n",
    "    html = requests.get(url).text\n",
    "    soup = BeautifulSoup(html, 'html5lib')\n",
    "    return soup\n",
    "\n",
    "def parse_text(html):\n",
    "    \"\"\"Parse the text on the single page\"\"\"\n",
    "    txt_raw = html.get_text() # Get text\n",
    "    txt_raw = txt_raw.replace(u'\\xa0', u'\\t') # Replace the \"non-breaking space\" into \"\\t\" (to distinguish from \\n)\n",
    "    l = txt_raw.split('\\n') # Make a list, separated by \"\\n\"\n",
    "    for i in l: # Preserve only the \"main\" part, hopefully > 200 characters\n",
    "        if len(i) > 200:\n",
    "            txt_parsed = i.replace('\\t\\t', '\\n') # Now replace the \"\\t\" to separate the paragraphs in the text\n",
    "    return txt_parsed\n",
    "\n",
    "def get_next_url(soup):\n",
    "    \"\"\"Get the url for the next chapter\"\"\"\n",
    "    next_url = \"http://www.piaotian.com/html/0/706/\" + soup.select('a')[-8].get('href')\n",
    "    return next_url\n",
    "\n",
    "def parse_multiple(file, url=\"https://www.piaotian.com/html/0/706/342780.html\", n=1647):\n",
    "    \"\"\"By using the initial url to parse all of the book (change the value of n to specify numbers of chapters)\"\"\"\n",
    "    with trange(1, n) as t:\n",
    "        for i in t:\n",
    "            t.set_description('Parsing Chapter {0}'.format(i))\n",
    "            soup = make_soup(url)\n",
    "            if i == 1041:\n",
    "                file.write(parse_special(soup) + '\\n\\n') # The formatting of this chapter is a little different\n",
    "            else:\n",
    "                file.write(parse_text(soup) + '\\n\\n')\n",
    "            url = get_next_url(soup)\n",
    "\n",
    "def parse_special(html):\n",
    "    txt_raw = html.get_text() # Get text\n",
    "    txt_raw = txt_raw.replace(u'\\xa0', u'\\t') # Replace the \"non-breaking space\" into \"\\t\" (to distinguish from \\n)\n",
    "    l = txt_raw.split('\\n') # Make a list, separated by \"\\n\"\n",
    "    txt_raw = ''.join(l[51:-21])\n",
    "    txt_parsed = \"第一千零一十九章\\n虫洞争夺\" + txt_raw.replace('\\t\\t', '\\n')\n",
    "    return txt_parsed\n",
    "    "
   ]
  },
  {
   "cell_type": "code",
   "execution_count": 16,
   "metadata": {
    "scrolled": true
   },
   "outputs": [
    {
     "name": "stderr",
     "output_type": "stream",
     "text": [
      "Parsing Chapter 1646: 100%|██████████| 1646/1646 [20:58<00:00,  1.31it/s]\n"
     ]
    }
   ],
   "source": [
    "filename = '斗破苍穹.txt'\n",
    "with open(filename, 'a') as f:\n",
    "    parse_multiple(f)"
   ]
  },
  {
   "cell_type": "code",
   "execution_count": null,
   "metadata": {},
   "outputs": [],
   "source": []
  }
 ],
 "metadata": {
  "kernelspec": {
   "display_name": "Python 3",
   "language": "python",
   "name": "python3"
  },
  "language_info": {
   "codemirror_mode": {
    "name": "ipython",
    "version": 3
   },
   "file_extension": ".py",
   "mimetype": "text/x-python",
   "name": "python",
   "nbconvert_exporter": "python",
   "pygments_lexer": "ipython3",
   "version": "3.6.5"
  }
 },
 "nbformat": 4,
 "nbformat_minor": 2
}
